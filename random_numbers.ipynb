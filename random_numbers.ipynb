{
 "cells": [
  {
   "cell_type": "code",
   "execution_count": 1,
   "id": "c058396f",
   "metadata": {},
   "outputs": [],
   "source": [
    "import random"
   ]
  },
  {
   "cell_type": "code",
   "execution_count": 2,
   "id": "dd54fbbd",
   "metadata": {},
   "outputs": [
    {
     "data": {
      "text/plain": [
       "-74"
      ]
     },
     "execution_count": 2,
     "metadata": {},
     "output_type": "execute_result"
    }
   ],
   "source": [
    "random.randint(-90, 90)"
   ]
  },
  {
   "cell_type": "code",
   "execution_count": 3,
   "id": "997cc556",
   "metadata": {},
   "outputs": [
    {
     "data": {
      "text/plain": [
       "0.47185865013959294"
      ]
     },
     "execution_count": 3,
     "metadata": {},
     "output_type": "execute_result"
    }
   ],
   "source": [
    "random.random()"
   ]
  },
  {
   "cell_type": "code",
   "execution_count": 6,
   "id": "b874eaaf",
   "metadata": {},
   "outputs": [
    {
     "data": {
      "text/plain": [
       "[-53.96013576049519,\n",
       " -45.645176989294605,\n",
       " -49.858009660525475,\n",
       " 62.52479617631273,\n",
       " -20.319588099863093,\n",
       " 65.83782609029625,\n",
       " 11.301948389024206,\n",
       " 46.75018303656418,\n",
       " -72.79087983612762,\n",
       " -68.40686506503201]"
      ]
     },
     "execution_count": 6,
     "metadata": {},
     "output_type": "execute_result"
    }
   ],
   "source": [
    "x = 1 \n",
    "latitudes = []\n",
    "while x < 11:\n",
    "    random_lat = random.randint(-90, 89) + random.random()\n",
    "    latitudes.append(random_lat)\n",
    "    x+= 1\n",
    "latitudes"
   ]
  },
  {
   "cell_type": "code",
   "execution_count": 7,
   "id": "31db2fd7",
   "metadata": {},
   "outputs": [
    {
     "data": {
      "text/plain": [
       "-17"
      ]
     },
     "execution_count": 7,
     "metadata": {},
     "output_type": "execute_result"
    }
   ],
   "source": [
    "random.randrange(-90, 90, step=1)"
   ]
  },
  {
   "cell_type": "code",
   "execution_count": 8,
   "id": "941778cc",
   "metadata": {},
   "outputs": [
    {
     "data": {
      "text/plain": [
       "-78"
      ]
     },
     "execution_count": 8,
     "metadata": {},
     "output_type": "execute_result"
    }
   ],
   "source": [
    "random.randrange(-90, 90, step=3)"
   ]
  },
  {
   "cell_type": "code",
   "execution_count": 9,
   "id": "be04e287",
   "metadata": {},
   "outputs": [
    {
     "data": {
      "text/plain": [
       "31.906416845300768"
      ]
     },
     "execution_count": 9,
     "metadata": {},
     "output_type": "execute_result"
    }
   ],
   "source": [
    "random.uniform(-90, 90)"
   ]
  },
  {
   "cell_type": "code",
   "execution_count": 10,
   "id": "2bee67d1",
   "metadata": {},
   "outputs": [],
   "source": [
    "import numpy as np"
   ]
  },
  {
   "cell_type": "code",
   "execution_count": 11,
   "id": "3b3ebbfe",
   "metadata": {},
   "outputs": [
    {
     "data": {
      "text/plain": [
       "42.26809697922667"
      ]
     },
     "execution_count": 11,
     "metadata": {},
     "output_type": "execute_result"
    }
   ],
   "source": [
    "np.random.uniform (-90.000, 90.000)"
   ]
  },
  {
   "cell_type": "code",
   "execution_count": 13,
   "id": "cdf3a0fd",
   "metadata": {},
   "outputs": [
    {
     "data": {
      "text/plain": [
       "52.99294277905943"
      ]
     },
     "execution_count": 13,
     "metadata": {},
     "output_type": "execute_result"
    }
   ],
   "source": [
    "np.random.uniform(low=-90, high=90)"
   ]
  },
  {
   "cell_type": "code",
   "execution_count": 14,
   "id": "af095b24",
   "metadata": {},
   "outputs": [
    {
     "data": {
      "text/plain": [
       "array([-45.5689118 ,  45.22734938, -79.74610388,  59.51079449,\n",
       "        43.66476245, -28.12541912,  39.23584525,  40.85964082,\n",
       "        17.22629624, -53.1970441 ,  45.24652548, -36.30545477,\n",
       "       -18.04772046, -10.88068902,  46.97303081,  66.29946558,\n",
       "       -62.98582039,  34.59257527, -54.56765822, -20.41472755,\n",
       "        -2.91363794, -67.34957145,  -8.11854702,  33.06010275,\n",
       "        -0.18976297, -33.8123643 , -81.19366672, -61.5713373 ,\n",
       "       -56.23350227,  57.50473902,  74.67870846,  21.80330494,\n",
       "        63.5666    , -68.76838943, -81.88434758, -43.13184516,\n",
       "        72.58789536,  -2.07658428, -49.60505075,  83.84158112,\n",
       "       -22.78317735,  -2.72862817, -88.31792201, -38.153122  ,\n",
       "        46.863385  ,  76.46267443, -81.28066298, -57.26348836,\n",
       "        26.9495313 ,  29.86781014])"
      ]
     },
     "execution_count": 14,
     "metadata": {},
     "output_type": "execute_result"
    }
   ],
   "source": [
    "np.random.uniform (-90.000, 90.000, size=50)"
   ]
  },
  {
   "cell_type": "code",
   "execution_count": 15,
   "id": "f55b9d3f",
   "metadata": {},
   "outputs": [
    {
     "data": {
      "text/plain": [
       "array([ 83.98638028,  39.31100096, -77.30411254, -84.92470864,\n",
       "        66.85079823, -68.42805235,  25.04400718,  51.27510005,\n",
       "       -47.11421193,  -2.92641522, -38.4033149 ,  71.43479806,\n",
       "       -40.59070799,  65.32166464, -42.38472715, -79.03116632,\n",
       "       -26.77850778,  -2.53511668, -27.1722083 ,  38.49184575,\n",
       "        50.23948093,  -0.75199414,   9.54011638, -36.53951657,\n",
       "        57.61443601, -75.03340508,  34.10236452,  68.20515933,\n",
       "        39.46241506, -44.01751133,  -1.63986139, -36.9402199 ,\n",
       "       -25.06767112, -17.17804882, -68.78896431, -87.04601879,\n",
       "        14.79642768,  57.37991891,  52.13191552,   4.83299367,\n",
       "        18.69394797,  19.95440549,  35.96147893,  -1.81886175,\n",
       "        39.22561278,  89.84347089, -57.92867268,  86.57225887,\n",
       "       -19.99275961,  10.57245376])"
      ]
     },
     "execution_count": 15,
     "metadata": {},
     "output_type": "execute_result"
    }
   ],
   "source": [
    "np.random.uniform(low=-90, high=90, size=50)"
   ]
  },
  {
   "cell_type": "code",
   "execution_count": 16,
   "id": "97467b19",
   "metadata": {},
   "outputs": [],
   "source": [
    "import timeit"
   ]
  },
  {
   "cell_type": "code",
   "execution_count": 18,
   "id": "854a2d78",
   "metadata": {},
   "outputs": [
    {
     "name": "stdout",
     "output_type": "stream",
     "text": [
      "12.9 µs ± 104 ns per loop (mean ± std. dev. of 7 runs, 100000 loops each)\n"
     ]
    }
   ],
   "source": [
    "%timeit np.random.uniform(-90.000, 90.000, size=1500)"
   ]
  },
  {
   "cell_type": "code",
   "execution_count": 20,
   "id": "1c1cab0e",
   "metadata": {},
   "outputs": [
    {
     "name": "stdout",
     "output_type": "stream",
     "text": [
      "1.81 ms ± 26.7 µs per loop (mean ± std. dev. of 7 runs, 1000 loops each)\n"
     ]
    }
   ],
   "source": [
    "def latitudes(size):\n",
    "    latitudes = []\n",
    "    x = 0\n",
    "    while x < (size):\n",
    "        random_lat = random.randint(-90, 90) + random.random()\n",
    "        latitudes.append(random_lat)\n",
    "        x += 1\n",
    "    return latitudes\n",
    "# Call the Function\n",
    "%timeit latitudes(1500)\n",
    "\n"
   ]
  },
  {
   "cell_type": "code",
   "execution_count": null,
   "id": "fc9af1c4",
   "metadata": {},
   "outputs": [],
   "source": [
    "def latitudes(size):\n",
    "    latitudes = []\n",
    "    x = 0\n",
    "    while x < (size):\n",
    "        random_lat = random.randint(-90, 90) + random.random()\n",
    "        latitudes.append(random_lat)\n",
    "        x += 1\n",
    "    return latitudes\n",
    "# Call the Function\n",
    "%timeit latitudes(1500)\n"
   ]
  },
  {
   "cell_type": "code",
   "execution_count": 1,
   "id": "eeab831e",
   "metadata": {},
   "outputs": [],
   "source": [
    "# IMport Linear Regression from the SciPy stats module\n",
    "from scipy.stats import linregress"
   ]
  },
  {
   "cell_type": "code",
   "execution_count": 2,
   "id": "42fa5807",
   "metadata": {},
   "outputs": [],
   "source": [
    "# Create an equal number of latitudes and temperatures.\n",
    "lats = [42.5, 43.9, 8.1, 36.8, 79.9, 69.1, 25.7, 15.3, 12.7, 64.5]\n",
    "temps = [80.5, 75.3, 90.9, 90.0, 40.4, 62.3, 85.4, 79.6, 72.5, 72.0]"
   ]
  },
  {
   "cell_type": "code",
   "execution_count": 6,
   "id": "8437581f",
   "metadata": {},
   "outputs": [
    {
     "name": "stdout",
     "output_type": "stream",
     "text": [
      "y = -0.45x + 92.94\n",
      "The p-value is: 0.011\n"
     ]
    }
   ],
   "source": [
    "# Perform linear regression.\n",
    "(slope, intercept, r_value, p_value, std_err) = linregress(lats, temps)\n",
    "# Get the equation of the line.\n",
    "line_eq = \"y = \" + str(round(slope,2)) + \"x + \" + str(round(intercept,2))\n",
    "print(line_eq)\n",
    "print(f\"The p-value is: {p_value:.3f}\")"
   ]
  },
  {
   "cell_type": "code",
   "execution_count": 9,
   "id": "c4e8dcc3",
   "metadata": {},
   "outputs": [
    {
     "data": {
      "text/plain": [
       "[73.68973782871005,\n",
       " 73.05563705897195,\n",
       " 89.2704995994175,\n",
       " 76.27143381978658,\n",
       " 56.750188694278094,\n",
       " 61.64182320368626,\n",
       " 81.29894706556718,\n",
       " 86.00940992647874,\n",
       " 87.18702564170663,\n",
       " 63.72529716139714]"
      ]
     },
     "execution_count": 9,
     "metadata": {},
     "output_type": "execute_result"
    }
   ],
   "source": [
    "# Calculate the regression line \"y values\" from the slope and intercept.\n",
    "regress_values = [(lat * slope + intercept) for lat in lats]\n",
    "regress_values"
   ]
  },
  {
   "cell_type": "code",
   "execution_count": 11,
   "id": "a3287ed6",
   "metadata": {},
   "outputs": [
    {
     "data": {
      "image/png": "[encoded data removed]",
      "text/plain": [
       "<Figure size 432x288 with 1 Axes>"
      ]
     },
     "metadata": {
      "needs_background": "light"
     },
     "output_type": "display_data"
    }
   ],
   "source": [
    "# import Matplotlib\n",
    "import matplotlib.pyplot as plt\n",
    "# Create a scatter plot of the x and y values.\n",
    "plt.scatter(lats,temps)\n",
    "# Plot the regression linw with the x-values and the y coordinates based on the intercept and slope.\n",
    "plt.plot(lats,regress_values,\"r\")\n",
    "# Annotate the text tor the line equation and add its coordinates.\n",
    "plt.annotate(line_eq, (10,40), fontsize=15,color=\"red\")\n",
    "plt.ylabel(\"Temp\")\n",
    "plt.show()"
   ]
  },
  {
   "cell_type": "code",
   "execution_count": null,
   "id": "1a644f47",
   "metadata": {},
   "outputs": [],
   "source": []
  }
 ],
 "metadata": {
  "kernelspec": {
   "display_name": "PythonData",
   "language": "python",
   "name": "pythondata"
  },
  "language_info": {
   "codemirror_mode": {
    "name": "ipython",
    "version": 3
   },
   "file_extension": ".py",
   "mimetype": "text/x-python",
   "name": "python",
   "nbconvert_exporter": "python",
   "pygments_lexer": "ipython3",
   "version": "3.7.13"
  }
 },
 "nbformat": 4,
 "nbformat_minor": 5
}
